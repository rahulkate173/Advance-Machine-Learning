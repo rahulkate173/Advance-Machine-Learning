{
 "cells": [
  {
   "cell_type": "code",
   "execution_count": 1,
   "id": "3a35672f-35dd-4f46-abc2-6b3d83ec7dab",
   "metadata": {},
   "outputs": [],
   "source": [
    "import pandas as pd\n",
    "import numpy as np"
   ]
  },
  {
   "cell_type": "code",
   "execution_count": 2,
   "id": "d5579320-7612-4a8b-b806-45cd280c01fc",
   "metadata": {},
   "outputs": [
    {
     "data": {
      "text/html": [
       "<div>\n",
       "<style scoped>\n",
       "    .dataframe tbody tr th:only-of-type {\n",
       "        vertical-align: middle;\n",
       "    }\n",
       "\n",
       "    .dataframe tbody tr th {\n",
       "        vertical-align: top;\n",
       "    }\n",
       "\n",
       "    .dataframe thead th {\n",
       "        text-align: right;\n",
       "    }\n",
       "</style>\n",
       "<table border=\"1\" class=\"dataframe\">\n",
       "  <thead>\n",
       "    <tr style=\"text-align: right;\">\n",
       "      <th></th>\n",
       "      <th>longitude</th>\n",
       "      <th>latitude</th>\n",
       "      <th>housing_median_age</th>\n",
       "      <th>total_rooms</th>\n",
       "      <th>total_bedrooms</th>\n",
       "      <th>population</th>\n",
       "      <th>households</th>\n",
       "      <th>median_income</th>\n",
       "      <th>median_house_value</th>\n",
       "      <th>ocean_proximity</th>\n",
       "    </tr>\n",
       "  </thead>\n",
       "  <tbody>\n",
       "    <tr>\n",
       "      <th>0</th>\n",
       "      <td>-122.23</td>\n",
       "      <td>37.88</td>\n",
       "      <td>41.0</td>\n",
       "      <td>880.0</td>\n",
       "      <td>129.0</td>\n",
       "      <td>322.0</td>\n",
       "      <td>126.0</td>\n",
       "      <td>8.3252</td>\n",
       "      <td>452600.0</td>\n",
       "      <td>NEAR BAY</td>\n",
       "    </tr>\n",
       "    <tr>\n",
       "      <th>1</th>\n",
       "      <td>-122.22</td>\n",
       "      <td>37.86</td>\n",
       "      <td>21.0</td>\n",
       "      <td>7099.0</td>\n",
       "      <td>1106.0</td>\n",
       "      <td>2401.0</td>\n",
       "      <td>1138.0</td>\n",
       "      <td>8.3014</td>\n",
       "      <td>358500.0</td>\n",
       "      <td>NEAR BAY</td>\n",
       "    </tr>\n",
       "    <tr>\n",
       "      <th>2</th>\n",
       "      <td>-122.24</td>\n",
       "      <td>37.85</td>\n",
       "      <td>52.0</td>\n",
       "      <td>1467.0</td>\n",
       "      <td>190.0</td>\n",
       "      <td>496.0</td>\n",
       "      <td>177.0</td>\n",
       "      <td>7.2574</td>\n",
       "      <td>352100.0</td>\n",
       "      <td>NEAR BAY</td>\n",
       "    </tr>\n",
       "    <tr>\n",
       "      <th>3</th>\n",
       "      <td>-122.25</td>\n",
       "      <td>37.85</td>\n",
       "      <td>52.0</td>\n",
       "      <td>1274.0</td>\n",
       "      <td>235.0</td>\n",
       "      <td>558.0</td>\n",
       "      <td>219.0</td>\n",
       "      <td>5.6431</td>\n",
       "      <td>341300.0</td>\n",
       "      <td>NEAR BAY</td>\n",
       "    </tr>\n",
       "    <tr>\n",
       "      <th>4</th>\n",
       "      <td>-122.25</td>\n",
       "      <td>37.85</td>\n",
       "      <td>52.0</td>\n",
       "      <td>1627.0</td>\n",
       "      <td>280.0</td>\n",
       "      <td>565.0</td>\n",
       "      <td>259.0</td>\n",
       "      <td>3.8462</td>\n",
       "      <td>342200.0</td>\n",
       "      <td>NEAR BAY</td>\n",
       "    </tr>\n",
       "  </tbody>\n",
       "</table>\n",
       "</div>"
      ],
      "text/plain": [
       "   longitude  latitude  housing_median_age  total_rooms  total_bedrooms  \\\n",
       "0    -122.23     37.88                41.0        880.0           129.0   \n",
       "1    -122.22     37.86                21.0       7099.0          1106.0   \n",
       "2    -122.24     37.85                52.0       1467.0           190.0   \n",
       "3    -122.25     37.85                52.0       1274.0           235.0   \n",
       "4    -122.25     37.85                52.0       1627.0           280.0   \n",
       "\n",
       "   population  households  median_income  median_house_value ocean_proximity  \n",
       "0       322.0       126.0         8.3252            452600.0        NEAR BAY  \n",
       "1      2401.0      1138.0         8.3014            358500.0        NEAR BAY  \n",
       "2       496.0       177.0         7.2574            352100.0        NEAR BAY  \n",
       "3       558.0       219.0         5.6431            341300.0        NEAR BAY  \n",
       "4       565.0       259.0         3.8462            342200.0        NEAR BAY  "
      ]
     },
     "execution_count": 2,
     "metadata": {},
     "output_type": "execute_result"
    }
   ],
   "source": [
    "path='datasets/housing.csv'\n",
    "df=pd.read_csv(path)\n",
    "df.head()"
   ]
  },
  {
   "cell_type": "markdown",
   "id": "d5074814-dc71-41b0-8f14-a5dcbf8b8c78",
   "metadata": {},
   "source": [
    "# Custom Transformer"
   ]
  },
  {
   "cell_type": "markdown",
   "id": "420ed2b7-b51d-480c-bcbb-f4a236157f72",
   "metadata": {},
   "source": [
    "#### Creating a custom transformer in Scikit-learn is very useful when you want to preprocess data in a custom way but still keep it compatible with Scikit-learn pipelines like:"
   ]
  },
  {
   "cell_type": "markdown",
   "id": "3a80c29b-414d-45ac-9f5e-533d1a360a46",
   "metadata": {},
   "source": [
    "#### ✅ Best Practices\n",
    "##### Use __init__() only to define parameters — no logic.\n",
    "##### Use fit() to compute any statistics if needed.\n",
    "##### Use transform() to actually change the input X.\n",
    "##### Always return NumPy arrays or DataFrames, not lists.\n",
    "##### Make sure it works with Pipeline, ColumnTransformer, GridSearchCV, etc."
   ]
  },
  {
   "cell_type": "code",
   "execution_count": 3,
   "id": "b055c4df-dff5-4359-9ad6-d3460a976220",
   "metadata": {},
   "outputs": [],
   "source": [
    "from sklearn.base import BaseEstimator, TransformerMixin"
   ]
  },
  {
   "cell_type": "markdown",
   "id": "5ed478c2-4447-43ee-b6c2-3f52a18c6af3",
   "metadata": {},
   "source": [
    "| Method            | Purpose                                                        |\n",
    "| ----------------- | -------------------------------------------------------------- |\n",
    "| `fit()`           | Learns parameters from data (optional)                         |\n",
    "| `transform()`     | Applies the transformation                                     |\n",
    "| `fit_transform()` | Comes from TransformerMixin – it calls `fit()` + `transform()` |\n"
   ]
  },
  {
   "cell_type": "code",
   "execution_count": 4,
   "id": "1e270a3c-61f6-4f25-b211-acc540a72e93",
   "metadata": {},
   "outputs": [],
   "source": [
    "import numpy as np\n",
    "from sklearn.base import BaseEstimator, TransformerMixin\n",
    "\n",
    "class attributeAdder(BaseEstimator, TransformerMixin):\n",
    "    def __init__(self, addBedroom=True):  # optional parameter\n",
    "        self.addBedroom = addBedroom\n",
    "\n",
    "    def fit(self, X, y=None):\n",
    "        return self\n",
    "\n",
    "    def transform(self, X, y=None):\n",
    "        # Assume: col 0 = total_rooms, col 1 = bedrooms, col 2 = households\n",
    "        total_rooms = X[:, 0]\n",
    "        bedrooms = X[:, 1]\n",
    "        households = X[:, 1]\n",
    "\n",
    "        rooms_per_household = (total_rooms / households).reshape(-1, 1)\n",
    "\n",
    "        if self.addBedroom:\n",
    "            bedrooms_per_room = (bedrooms / total_rooms).reshape(-1, 1)\n",
    "            return np.hstack([X, rooms_per_household, bedrooms_per_room])\n",
    "        else:\n",
    "            return np.hstack([X, rooms_per_household])\n"
   ]
  },
  {
   "cell_type": "code",
   "execution_count": 5,
   "id": "968da760-feee-4805-8123-a62f3425cff7",
   "metadata": {},
   "outputs": [
    {
     "name": "stdout",
     "output_type": "stream",
     "text": [
      "[[1.0e+03 2.0e+02 5.0e+00 2.0e-01]\n",
      " [8.5e+02 1.7e+02 5.0e+00 2.0e-01]]\n"
     ]
    }
   ],
   "source": [
    "data = np.array([[1000, 200], [850, 170]])  # total_rooms, households\n",
    "from sklearn.pipeline import Pipeline\n",
    "pipeline = Pipeline([\n",
    "    ('room_ratio_adder', attributeAdder())\n",
    "])\n",
    "\n",
    "output = pipeline.fit_transform(data)\n",
    "print(output)"
   ]
  },
  {
   "cell_type": "code",
   "execution_count": 6,
   "id": "893d59ea-2bdb-4e38-94b5-8746d1bb3acd",
   "metadata": {},
   "outputs": [],
   "source": [
    "class Scalar(BaseEstimator):\n",
    "    def __init__(self):\n",
    "        pass\n",
    "\n",
    "    def fit(self,X,y=None):\n",
    "        self.min=X.min(axis=0)\n",
    "        self.max=X.max(axis=0)\n",
    "        return self\n",
    "\n",
    "    def transform(self,X):\n",
    "        return (X-self.min)/(self.max-self.min)"
   ]
  },
  {
   "cell_type": "code",
   "execution_count": 7,
   "id": "20864b91-a289-47f0-9a8b-f1bd9e329b7e",
   "metadata": {},
   "outputs": [
    {
     "name": "stdout",
     "output_type": "stream",
     "text": [
      "[[0.  0. ]\n",
      " [0.5 0.5]\n",
      " [1.  1. ]]\n"
     ]
    }
   ],
   "source": [
    "data = np.array([[10, 200],\n",
    "                 [20, 300],\n",
    "                 [30, 400]])\n",
    "\n",
    "scaler = Scalar()\n",
    "scaler.fit(data)\n",
    "scaled_data = scaler.transform(data)\n",
    "print(scaled_data)"
   ]
  },
  {
   "cell_type": "markdown",
   "id": "2ba9c058-a298-449c-9cde-2dc5f60ba513",
   "metadata": {},
   "source": [
    "#### Custom Transformer for Frequency Encoding"
   ]
  },
  {
   "cell_type": "code",
   "execution_count": 8,
   "id": "0df9e790-cd0f-4513-aa6f-1584888828fd",
   "metadata": {},
   "outputs": [
    {
     "data": {
      "text/plain": [
       "Index(['<1H OCEAN', 'INLAND', 'NEAR OCEAN', 'NEAR BAY', 'ISLAND'], dtype='object', name='ocean_proximity')"
      ]
     },
     "execution_count": 8,
     "metadata": {},
     "output_type": "execute_result"
    }
   ],
   "source": [
    "df['ocean_proximity'].value_counts().index"
   ]
  },
  {
   "cell_type": "code",
   "execution_count": 9,
   "id": "e4512421-b471-4343-b924-c76f61ecb418",
   "metadata": {},
   "outputs": [],
   "source": [
    "class FrequencyEncoder(BaseEstimator,TransformerMixin):\n",
    "    def __init__(self,feature_index):\n",
    "        self.feature_index=feature_index\n",
    "    def fit(self,X,y=None):\n",
    "        value_counts=X.iloc[:,self.feature_index].value_counts(normalize=True)\n",
    "        self.freq_map=value_counts.to_dict()\n",
    "        return self\n",
    "    def transform(self,X,y=None):\n",
    "        X=X.copy()\n",
    "        col=X.columns[self.feature_index]\n",
    "        X[col]=X[col].map(self.freq_map)\n",
    "        return X"
   ]
  },
  {
   "cell_type": "code",
   "execution_count": 10,
   "id": "6702e624-fdde-489e-8c22-983822606a43",
   "metadata": {},
   "outputs": [
    {
     "name": "stdout",
     "output_type": "stream",
     "text": [
      "   profession\n",
      "0    0.333333\n",
      "1    0.500000\n",
      "2    0.333333\n",
      "3    0.166667\n",
      "4    0.500000\n",
      "5    0.500000\n"
     ]
    }
   ],
   "source": [
    "df = pd.DataFrame({\n",
    "    'profession': ['Doctor', 'Engineer', 'Doctor', 'Artist', 'Engineer', 'Engineer']\n",
    "})\n",
    "\n",
    "encoder = FrequencyEncoder(feature_index=0)\n",
    "transformed = encoder.fit_transform(df)\n",
    "print(transformed)\n"
   ]
  },
  {
   "cell_type": "markdown",
   "id": "1ff6ad92-e4be-4fd4-9841-72c4d803de7c",
   "metadata": {},
   "source": [
    "## Creating a custom transformer that Find missing values"
   ]
  },
  {
   "cell_type": "code",
   "execution_count": 11,
   "id": "a74c81ef-85f4-4e81-8505-0d99ec8ae770",
   "metadata": {},
   "outputs": [],
   "source": [
    "class Finder(BaseEstimator,TransformerMixin):\n",
    "    def __init__(self,feature_index):\n",
    "        self.feature_index=feature_index\n",
    "    def fit(self,X,y=None):\n",
    "        \"\"\" here i am assumig that the missing values are always nan not other\"\"\"\n",
    "        self.filt=pd.isna(X.iloc[:,self.feature_index])\n",
    "        return self\n",
    "    def transform(self,X,y=None):\n",
    "        X=X.copy()\n",
    "        X=X.loc[self.filt]\n",
    "        return X"
   ]
  },
  {
   "cell_type": "code",
   "execution_count": 12,
   "id": "601d256c-c73a-4152-a5af-748a62a2fc83",
   "metadata": {},
   "outputs": [],
   "source": [
    "df=pd.DataFrame({\n",
    "    'Age':np.random.randint(1,100,size=(10)),\n",
    "    'Passion':np.random.choice(['doctor','engineer','dentist','scientist'],size=(10)),\n",
    "    'Income':np.random.choice(range(1000,100000),size=(10))\n",
    "})"
   ]
  },
  {
   "cell_type": "code",
   "execution_count": 13,
   "id": "f45a4c49-3c4a-4b26-a312-320237935906",
   "metadata": {},
   "outputs": [],
   "source": [
    "# creating missing values\n",
    "df.iloc[0,0]=np.nan\n",
    "df.iloc[4,0]=np.nan"
   ]
  },
  {
   "cell_type": "code",
   "execution_count": 14,
   "id": "fe6ba843-aab0-4dd1-979d-9c11cceff489",
   "metadata": {},
   "outputs": [
    {
     "data": {
      "text/plain": [
       "0     NaN\n",
       "1    74.0\n",
       "2    33.0\n",
       "3    24.0\n",
       "4     NaN\n",
       "5    38.0\n",
       "6    95.0\n",
       "7    51.0\n",
       "8    91.0\n",
       "9    98.0\n",
       "Name: Age, dtype: float64"
      ]
     },
     "execution_count": 14,
     "metadata": {},
     "output_type": "execute_result"
    }
   ],
   "source": [
    "df.iloc[:,0]"
   ]
  },
  {
   "cell_type": "code",
   "execution_count": 15,
   "id": "61674230-5d60-4e11-b4ce-64c0125aaed3",
   "metadata": {},
   "outputs": [
    {
     "data": {
      "text/plain": [
       "0     True\n",
       "1    False\n",
       "2    False\n",
       "3    False\n",
       "4     True\n",
       "5    False\n",
       "6    False\n",
       "7    False\n",
       "8    False\n",
       "9    False\n",
       "Name: Age, dtype: bool"
      ]
     },
     "execution_count": 15,
     "metadata": {},
     "output_type": "execute_result"
    }
   ],
   "source": [
    "pd.isna(df.iloc[:,0])"
   ]
  },
  {
   "cell_type": "code",
   "execution_count": 16,
   "id": "349cc6ae-3f0f-4708-8423-dcf40c9d642e",
   "metadata": {},
   "outputs": [
    {
     "data": {
      "text/html": [
       "<div>\n",
       "<style scoped>\n",
       "    .dataframe tbody tr th:only-of-type {\n",
       "        vertical-align: middle;\n",
       "    }\n",
       "\n",
       "    .dataframe tbody tr th {\n",
       "        vertical-align: top;\n",
       "    }\n",
       "\n",
       "    .dataframe thead th {\n",
       "        text-align: right;\n",
       "    }\n",
       "</style>\n",
       "<table border=\"1\" class=\"dataframe\">\n",
       "  <thead>\n",
       "    <tr style=\"text-align: right;\">\n",
       "      <th></th>\n",
       "      <th>Age</th>\n",
       "      <th>Passion</th>\n",
       "      <th>Income</th>\n",
       "    </tr>\n",
       "  </thead>\n",
       "  <tbody>\n",
       "    <tr>\n",
       "      <th>0</th>\n",
       "      <td>NaN</td>\n",
       "      <td>dentist</td>\n",
       "      <td>63218</td>\n",
       "    </tr>\n",
       "    <tr>\n",
       "      <th>4</th>\n",
       "      <td>NaN</td>\n",
       "      <td>scientist</td>\n",
       "      <td>63532</td>\n",
       "    </tr>\n",
       "  </tbody>\n",
       "</table>\n",
       "</div>"
      ],
      "text/plain": [
       "   Age    Passion  Income\n",
       "0  NaN    dentist   63218\n",
       "4  NaN  scientist   63532"
      ]
     },
     "execution_count": 16,
     "metadata": {},
     "output_type": "execute_result"
    }
   ],
   "source": [
    "transformer=Finder(0)\n",
    "df_encode=transformer.fit_transform(df)\n",
    "df_encode"
   ]
  },
  {
   "cell_type": "markdown",
   "id": "2716e1ad-332a-4e8b-be22-6251ccc5d843",
   "metadata": {},
   "source": [
    "## 🧠 Challenge 2: Rare Category Grouper"
   ]
  },
  {
   "cell_type": "code",
   "execution_count": 17,
   "id": "112508d9-0d4d-41c5-87dc-dbfaa90bf263",
   "metadata": {},
   "outputs": [
    {
     "name": "stdout",
     "output_type": "stream",
     "text": [
      "0\n",
      "1\n",
      "2\n",
      "3\n",
      "4\n",
      "5\n",
      "6\n",
      "7\n",
      "8\n",
      "9\n"
     ]
    }
   ],
   "source": [
    "for i,val in enumerate(df['Age']):\n",
    "    print(i)"
   ]
  },
  {
   "cell_type": "code",
   "execution_count": 18,
   "id": "27c06da4-2a5f-4d34-9a9a-5083769ff1d4",
   "metadata": {},
   "outputs": [],
   "source": [
    "class CategoryGrouper(BaseEstimator,TransformerMixin):\n",
    "    def __init__(self,feature_index,top_n):\n",
    "        self.feature_index=feature_index\n",
    "        self.top_n=top_n\n",
    "\n",
    "    def fit(self,X,y=None):\n",
    "        return self        \n",
    "    def transform(self,X,y=None):\n",
    "        X=X.copy()\n",
    "        top_n_feature=X.iloc[:,self.feature_index].value_counts()[self.top_n]\n",
    "        for i,row in enumerate(X.iloc[:,self.feature_index]):\n",
    "            if(row not in top_n_feature):\n",
    "                X.iloc[i,self.feature_index]=\"Other\"\n",
    "                \n",
    "        return X"
   ]
  },
  {
   "cell_type": "code",
   "execution_count": 19,
   "id": "ebe40acc-fb5b-4a52-880f-2679ee4eee82",
   "metadata": {},
   "outputs": [],
   "source": [
    "df=pd.DataFrame({\n",
    "    'Age':np.random.randint(1,100,size=(1000)),\n",
    "    'Passion':np.random.choice(['doctor','engineer','dentist','scientist'],size=(1000)),\n",
    "})"
   ]
  },
  {
   "cell_type": "code",
   "execution_count": 20,
   "id": "8e92c342-6088-473b-8d65-7eed92147995",
   "metadata": {},
   "outputs": [
    {
     "data": {
      "text/plain": [
       "Passion\n",
       "engineer     264\n",
       "scientist    258\n",
       "dentist      246\n",
       "doctor       232\n",
       "Name: count, dtype: int64"
      ]
     },
     "execution_count": 20,
     "metadata": {},
     "output_type": "execute_result"
    }
   ],
   "source": [
    "df['Passion'].value_counts()"
   ]
  },
  {
   "cell_type": "code",
   "execution_count": 22,
   "id": "5f371975-e14c-4cd3-a1ef-247026b968e8",
   "metadata": {},
   "outputs": [
    {
     "name": "stderr",
     "output_type": "stream",
     "text": [
      "C:\\Users\\Rahul\\AppData\\Local\\Temp\\ipykernel_4084\\3241554952.py:10: FutureWarning: Series.__getitem__ treating keys as positions is deprecated. In a future version, integer keys will always be treated as labels (consistent with DataFrame behavior). To access a value by position, use `ser.iloc[pos]`\n",
      "  top_n_feature=X.iloc[:,self.feature_index].value_counts()[self.top_n]\n"
     ]
    },
    {
     "ename": "TypeError",
     "evalue": "argument of type 'numpy.int64' is not iterable",
     "output_type": "error",
     "traceback": [
      "\u001b[1;31m---------------------------------------------------------------------------\u001b[0m",
      "\u001b[1;31mTypeError\u001b[0m                                 Traceback (most recent call last)",
      "Cell \u001b[1;32mIn[22], line 2\u001b[0m\n\u001b[0;32m      1\u001b[0m transformer\u001b[38;5;241m=\u001b[39mCategoryGrouper(\u001b[38;5;241m1\u001b[39m,\u001b[38;5;241m2\u001b[39m)\n\u001b[1;32m----> 2\u001b[0m df_encoded\u001b[38;5;241m=\u001b[39m\u001b[43mtransformer\u001b[49m\u001b[38;5;241;43m.\u001b[39;49m\u001b[43mfit_transform\u001b[49m\u001b[43m(\u001b[49m\u001b[43mdf\u001b[49m\u001b[43m)\u001b[49m\n",
      "File \u001b[1;32m~\\AppData\\Local\\Programs\\Python\\Python312\\Lib\\site-packages\\sklearn\\utils\\_set_output.py:316\u001b[0m, in \u001b[0;36m_wrap_method_output.<locals>.wrapped\u001b[1;34m(self, X, *args, **kwargs)\u001b[0m\n\u001b[0;32m    314\u001b[0m \u001b[38;5;129m@wraps\u001b[39m(f)\n\u001b[0;32m    315\u001b[0m \u001b[38;5;28;01mdef\u001b[39;00m \u001b[38;5;21mwrapped\u001b[39m(\u001b[38;5;28mself\u001b[39m, X, \u001b[38;5;241m*\u001b[39margs, \u001b[38;5;241m*\u001b[39m\u001b[38;5;241m*\u001b[39mkwargs):\n\u001b[1;32m--> 316\u001b[0m     data_to_wrap \u001b[38;5;241m=\u001b[39m \u001b[43mf\u001b[49m\u001b[43m(\u001b[49m\u001b[38;5;28;43mself\u001b[39;49m\u001b[43m,\u001b[49m\u001b[43m \u001b[49m\u001b[43mX\u001b[49m\u001b[43m,\u001b[49m\u001b[43m \u001b[49m\u001b[38;5;241;43m*\u001b[39;49m\u001b[43margs\u001b[49m\u001b[43m,\u001b[49m\u001b[43m \u001b[49m\u001b[38;5;241;43m*\u001b[39;49m\u001b[38;5;241;43m*\u001b[39;49m\u001b[43mkwargs\u001b[49m\u001b[43m)\u001b[49m\n\u001b[0;32m    317\u001b[0m     \u001b[38;5;28;01mif\u001b[39;00m \u001b[38;5;28misinstance\u001b[39m(data_to_wrap, \u001b[38;5;28mtuple\u001b[39m):\n\u001b[0;32m    318\u001b[0m         \u001b[38;5;66;03m# only wrap the first output for cross decomposition\u001b[39;00m\n\u001b[0;32m    319\u001b[0m         return_tuple \u001b[38;5;241m=\u001b[39m (\n\u001b[0;32m    320\u001b[0m             _wrap_data_with_container(method, data_to_wrap[\u001b[38;5;241m0\u001b[39m], X, \u001b[38;5;28mself\u001b[39m),\n\u001b[0;32m    321\u001b[0m             \u001b[38;5;241m*\u001b[39mdata_to_wrap[\u001b[38;5;241m1\u001b[39m:],\n\u001b[0;32m    322\u001b[0m         )\n",
      "File \u001b[1;32m~\\AppData\\Local\\Programs\\Python\\Python312\\Lib\\site-packages\\sklearn\\base.py:892\u001b[0m, in \u001b[0;36mTransformerMixin.fit_transform\u001b[1;34m(self, X, y, **fit_params)\u001b[0m\n\u001b[0;32m    877\u001b[0m         warnings\u001b[38;5;241m.\u001b[39mwarn(\n\u001b[0;32m    878\u001b[0m             (\n\u001b[0;32m    879\u001b[0m                 \u001b[38;5;124mf\u001b[39m\u001b[38;5;124m\"\u001b[39m\u001b[38;5;124mThis object (\u001b[39m\u001b[38;5;132;01m{\u001b[39;00m\u001b[38;5;28mself\u001b[39m\u001b[38;5;241m.\u001b[39m\u001b[38;5;18m__class__\u001b[39m\u001b[38;5;241m.\u001b[39m\u001b[38;5;18m__name__\u001b[39m\u001b[38;5;132;01m}\u001b[39;00m\u001b[38;5;124m) has a `transform`\u001b[39m\u001b[38;5;124m\"\u001b[39m\n\u001b[1;32m   (...)\u001b[0m\n\u001b[0;32m    887\u001b[0m             \u001b[38;5;167;01mUserWarning\u001b[39;00m,\n\u001b[0;32m    888\u001b[0m         )\n\u001b[0;32m    890\u001b[0m \u001b[38;5;28;01mif\u001b[39;00m y \u001b[38;5;129;01mis\u001b[39;00m \u001b[38;5;28;01mNone\u001b[39;00m:\n\u001b[0;32m    891\u001b[0m     \u001b[38;5;66;03m# fit method of arity 1 (unsupervised transformation)\u001b[39;00m\n\u001b[1;32m--> 892\u001b[0m     \u001b[38;5;28;01mreturn\u001b[39;00m \u001b[38;5;28;43mself\u001b[39;49m\u001b[38;5;241;43m.\u001b[39;49m\u001b[43mfit\u001b[49m\u001b[43m(\u001b[49m\u001b[43mX\u001b[49m\u001b[43m,\u001b[49m\u001b[43m \u001b[49m\u001b[38;5;241;43m*\u001b[39;49m\u001b[38;5;241;43m*\u001b[39;49m\u001b[43mfit_params\u001b[49m\u001b[43m)\u001b[49m\u001b[38;5;241;43m.\u001b[39;49m\u001b[43mtransform\u001b[49m\u001b[43m(\u001b[49m\u001b[43mX\u001b[49m\u001b[43m)\u001b[49m\n\u001b[0;32m    893\u001b[0m \u001b[38;5;28;01melse\u001b[39;00m:\n\u001b[0;32m    894\u001b[0m     \u001b[38;5;66;03m# fit method of arity 2 (supervised transformation)\u001b[39;00m\n\u001b[0;32m    895\u001b[0m     \u001b[38;5;28;01mreturn\u001b[39;00m \u001b[38;5;28mself\u001b[39m\u001b[38;5;241m.\u001b[39mfit(X, y, \u001b[38;5;241m*\u001b[39m\u001b[38;5;241m*\u001b[39mfit_params)\u001b[38;5;241m.\u001b[39mtransform(X)\n",
      "File \u001b[1;32m~\\AppData\\Local\\Programs\\Python\\Python312\\Lib\\site-packages\\sklearn\\utils\\_set_output.py:316\u001b[0m, in \u001b[0;36m_wrap_method_output.<locals>.wrapped\u001b[1;34m(self, X, *args, **kwargs)\u001b[0m\n\u001b[0;32m    314\u001b[0m \u001b[38;5;129m@wraps\u001b[39m(f)\n\u001b[0;32m    315\u001b[0m \u001b[38;5;28;01mdef\u001b[39;00m \u001b[38;5;21mwrapped\u001b[39m(\u001b[38;5;28mself\u001b[39m, X, \u001b[38;5;241m*\u001b[39margs, \u001b[38;5;241m*\u001b[39m\u001b[38;5;241m*\u001b[39mkwargs):\n\u001b[1;32m--> 316\u001b[0m     data_to_wrap \u001b[38;5;241m=\u001b[39m \u001b[43mf\u001b[49m\u001b[43m(\u001b[49m\u001b[38;5;28;43mself\u001b[39;49m\u001b[43m,\u001b[49m\u001b[43m \u001b[49m\u001b[43mX\u001b[49m\u001b[43m,\u001b[49m\u001b[43m \u001b[49m\u001b[38;5;241;43m*\u001b[39;49m\u001b[43margs\u001b[49m\u001b[43m,\u001b[49m\u001b[43m \u001b[49m\u001b[38;5;241;43m*\u001b[39;49m\u001b[38;5;241;43m*\u001b[39;49m\u001b[43mkwargs\u001b[49m\u001b[43m)\u001b[49m\n\u001b[0;32m    317\u001b[0m     \u001b[38;5;28;01mif\u001b[39;00m \u001b[38;5;28misinstance\u001b[39m(data_to_wrap, \u001b[38;5;28mtuple\u001b[39m):\n\u001b[0;32m    318\u001b[0m         \u001b[38;5;66;03m# only wrap the first output for cross decomposition\u001b[39;00m\n\u001b[0;32m    319\u001b[0m         return_tuple \u001b[38;5;241m=\u001b[39m (\n\u001b[0;32m    320\u001b[0m             _wrap_data_with_container(method, data_to_wrap[\u001b[38;5;241m0\u001b[39m], X, \u001b[38;5;28mself\u001b[39m),\n\u001b[0;32m    321\u001b[0m             \u001b[38;5;241m*\u001b[39mdata_to_wrap[\u001b[38;5;241m1\u001b[39m:],\n\u001b[0;32m    322\u001b[0m         )\n",
      "Cell \u001b[1;32mIn[18], line 12\u001b[0m, in \u001b[0;36mCategoryGrouper.transform\u001b[1;34m(self, X, y)\u001b[0m\n\u001b[0;32m     10\u001b[0m top_n_feature\u001b[38;5;241m=\u001b[39mX\u001b[38;5;241m.\u001b[39miloc[:,\u001b[38;5;28mself\u001b[39m\u001b[38;5;241m.\u001b[39mfeature_index]\u001b[38;5;241m.\u001b[39mvalue_counts()[\u001b[38;5;28mself\u001b[39m\u001b[38;5;241m.\u001b[39mtop_n]\n\u001b[0;32m     11\u001b[0m \u001b[38;5;28;01mfor\u001b[39;00m i,row \u001b[38;5;129;01min\u001b[39;00m \u001b[38;5;28menumerate\u001b[39m(X\u001b[38;5;241m.\u001b[39miloc[:,\u001b[38;5;28mself\u001b[39m\u001b[38;5;241m.\u001b[39mfeature_index]):\n\u001b[1;32m---> 12\u001b[0m     \u001b[38;5;28;01mif\u001b[39;00m(\u001b[43mrow\u001b[49m\u001b[43m \u001b[49m\u001b[38;5;129;43;01mnot\u001b[39;49;00m\u001b[43m \u001b[49m\u001b[38;5;129;43;01min\u001b[39;49;00m\u001b[43m \u001b[49m\u001b[43mtop_n_feature\u001b[49m):\n\u001b[0;32m     13\u001b[0m         X\u001b[38;5;241m.\u001b[39miloc[i,\u001b[38;5;28mself\u001b[39m\u001b[38;5;241m.\u001b[39mfeature_index]\u001b[38;5;241m=\u001b[39m\u001b[38;5;124m\"\u001b[39m\u001b[38;5;124mOther\u001b[39m\u001b[38;5;124m\"\u001b[39m\n\u001b[0;32m     15\u001b[0m \u001b[38;5;28;01mreturn\u001b[39;00m X\n",
      "\u001b[1;31mTypeError\u001b[0m: argument of type 'numpy.int64' is not iterable"
     ]
    }
   ],
   "source": [
    "transformer=CategoryGrouper(1,2)\n",
    "df_encoded=transformer.fit_transform(df)"
   ]
  },
  {
   "cell_type": "code",
   "execution_count": null,
   "id": "b1e81560-83b3-4c78-b589-16f785dcf0a7",
   "metadata": {},
   "outputs": [],
   "source": [
    "df_encoded"
   ]
  },
  {
   "cell_type": "code",
   "execution_count": null,
   "id": "80da7caf-459b-4596-91e9-fdb4b45feb3f",
   "metadata": {},
   "outputs": [],
   "source": []
  }
 ],
 "metadata": {
  "kernelspec": {
   "display_name": "Python 3 (ipykernel)",
   "language": "python",
   "name": "python3"
  },
  "language_info": {
   "codemirror_mode": {
    "name": "ipython",
    "version": 3
   },
   "file_extension": ".py",
   "mimetype": "text/x-python",
   "name": "python",
   "nbconvert_exporter": "python",
   "pygments_lexer": "ipython3",
   "version": "3.12.5"
  }
 },
 "nbformat": 4,
 "nbformat_minor": 5
}
