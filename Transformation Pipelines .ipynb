{
 "cells": [
  {
   "cell_type": "code",
   "execution_count": 5,
   "id": "1e220e33-3005-466b-8b91-325897a21890",
   "metadata": {},
   "outputs": [],
   "source": [
    "import pandas as pd\n",
    "import numpy as np\n",
    "from sklearn.compose import ColumnTransformer\n",
    "from sklearn.pipeline import Pipeline\n",
    "import warnings\n",
    "from sklearn.preprocessing import StandardScaler , OneHotEncoder\n",
    "from sklearn.impute import SimpleImputer\n",
    "warnings.filterwarnings('ignore')"
   ]
  },
  {
   "cell_type": "code",
   "execution_count": 4,
   "id": "66260a71-e820-48d2-a62c-04260eaa61cf",
   "metadata": {},
   "outputs": [
    {
     "data": {
      "text/html": [
       "<div>\n",
       "<style scoped>\n",
       "    .dataframe tbody tr th:only-of-type {\n",
       "        vertical-align: middle;\n",
       "    }\n",
       "\n",
       "    .dataframe tbody tr th {\n",
       "        vertical-align: top;\n",
       "    }\n",
       "\n",
       "    .dataframe thead th {\n",
       "        text-align: right;\n",
       "    }\n",
       "</style>\n",
       "<table border=\"1\" class=\"dataframe\">\n",
       "  <thead>\n",
       "    <tr style=\"text-align: right;\">\n",
       "      <th></th>\n",
       "      <th>longitude</th>\n",
       "      <th>latitude</th>\n",
       "      <th>housing_median_age</th>\n",
       "      <th>total_rooms</th>\n",
       "      <th>total_bedrooms</th>\n",
       "      <th>population</th>\n",
       "      <th>households</th>\n",
       "      <th>median_income</th>\n",
       "      <th>median_house_value</th>\n",
       "      <th>ocean_proximity</th>\n",
       "    </tr>\n",
       "  </thead>\n",
       "  <tbody>\n",
       "    <tr>\n",
       "      <th>0</th>\n",
       "      <td>-122.23</td>\n",
       "      <td>37.88</td>\n",
       "      <td>41.0</td>\n",
       "      <td>880.0</td>\n",
       "      <td>129.0</td>\n",
       "      <td>322.0</td>\n",
       "      <td>126.0</td>\n",
       "      <td>8.3252</td>\n",
       "      <td>452600.0</td>\n",
       "      <td>NEAR BAY</td>\n",
       "    </tr>\n",
       "    <tr>\n",
       "      <th>1</th>\n",
       "      <td>-122.22</td>\n",
       "      <td>37.86</td>\n",
       "      <td>21.0</td>\n",
       "      <td>7099.0</td>\n",
       "      <td>1106.0</td>\n",
       "      <td>2401.0</td>\n",
       "      <td>1138.0</td>\n",
       "      <td>8.3014</td>\n",
       "      <td>358500.0</td>\n",
       "      <td>NEAR BAY</td>\n",
       "    </tr>\n",
       "    <tr>\n",
       "      <th>2</th>\n",
       "      <td>-122.24</td>\n",
       "      <td>37.85</td>\n",
       "      <td>52.0</td>\n",
       "      <td>1467.0</td>\n",
       "      <td>190.0</td>\n",
       "      <td>496.0</td>\n",
       "      <td>177.0</td>\n",
       "      <td>7.2574</td>\n",
       "      <td>352100.0</td>\n",
       "      <td>NEAR BAY</td>\n",
       "    </tr>\n",
       "    <tr>\n",
       "      <th>3</th>\n",
       "      <td>-122.25</td>\n",
       "      <td>37.85</td>\n",
       "      <td>52.0</td>\n",
       "      <td>1274.0</td>\n",
       "      <td>235.0</td>\n",
       "      <td>558.0</td>\n",
       "      <td>219.0</td>\n",
       "      <td>5.6431</td>\n",
       "      <td>341300.0</td>\n",
       "      <td>NEAR BAY</td>\n",
       "    </tr>\n",
       "    <tr>\n",
       "      <th>4</th>\n",
       "      <td>-122.25</td>\n",
       "      <td>37.85</td>\n",
       "      <td>52.0</td>\n",
       "      <td>1627.0</td>\n",
       "      <td>280.0</td>\n",
       "      <td>565.0</td>\n",
       "      <td>259.0</td>\n",
       "      <td>3.8462</td>\n",
       "      <td>342200.0</td>\n",
       "      <td>NEAR BAY</td>\n",
       "    </tr>\n",
       "  </tbody>\n",
       "</table>\n",
       "</div>"
      ],
      "text/plain": [
       "   longitude  latitude  housing_median_age  total_rooms  ...  households  median_income  median_house_value  ocean_proximity\n",
       "0    -122.23     37.88                41.0        880.0  ...       126.0         8.3252            452600.0         NEAR BAY\n",
       "1    -122.22     37.86                21.0       7099.0  ...      1138.0         8.3014            358500.0         NEAR BAY\n",
       "2    -122.24     37.85                52.0       1467.0  ...       177.0         7.2574            352100.0         NEAR BAY\n",
       "3    -122.25     37.85                52.0       1274.0  ...       219.0         5.6431            341300.0         NEAR BAY\n",
       "4    -122.25     37.85                52.0       1627.0  ...       259.0         3.8462            342200.0         NEAR BAY\n",
       "\n",
       "[5 rows x 10 columns]"
      ]
     },
     "execution_count": 4,
     "metadata": {},
     "output_type": "execute_result"
    }
   ],
   "source": [
    "path='datasets\\housing.csv'\n",
    "df=pd.read_csv(path)\n",
    "df.head()"
   ]
  },
  {
   "cell_type": "code",
   "execution_count": 6,
   "id": "4c9b4d1f-633d-427c-a416-9f00261cb7e8",
   "metadata": {},
   "outputs": [],
   "source": [
    "df_num=df.drop(columns=['ocean_proximity'])"
   ]
  },
  {
   "cell_type": "code",
   "execution_count": 7,
   "id": "aa0134aa-f395-44f1-8398-c0a1dbdff6de",
   "metadata": {},
   "outputs": [],
   "source": [
    "new_pipeline=Pipeline([\n",
    "    ('inputer',SimpleImputer(strategy='median')),\n",
    "    ('scalar',StandardScaler())\n",
    "])\n",
    "df_num_transformed=new_pipeline.fit_transform(df_num)"
   ]
  },
  {
   "cell_type": "code",
   "execution_count": 8,
   "id": "cf2f8627-8878-4172-bad7-574a7e3605d8",
   "metadata": {},
   "outputs": [
    {
     "data": {
      "text/plain": [
       "array([[-1.32783522,  1.05254828,  0.98214266, ..., -0.97703285,\n",
       "         2.34476576,  2.12963148],\n",
       "       [-1.32284391,  1.04318455, -0.60701891, ...,  1.66996103,\n",
       "         2.33223796,  1.31415614],\n",
       "       [-1.33282653,  1.03850269,  1.85618152, ..., -0.84363692,\n",
       "         1.7826994 ,  1.25869341],\n",
       "       ...,\n",
       "       [-0.8237132 ,  1.77823747, -0.92485123, ..., -0.17404163,\n",
       "        -1.14259331, -0.99274649],\n",
       "       [-0.87362627,  1.77823747, -0.84539315, ..., -0.39375258,\n",
       "        -1.05458292, -1.05860847],\n",
       "       [-0.83369581,  1.75014627, -1.00430931, ...,  0.07967221,\n",
       "        -0.78012947, -1.01787803]], shape=(20640, 9))"
      ]
     },
     "execution_count": 8,
     "metadata": {},
     "output_type": "execute_result"
    }
   ],
   "source": [
    "df_num_transformed"
   ]
  },
  {
   "cell_type": "markdown",
   "id": "286d9f51-56e2-4a53-9817-3ca59e121851",
   "metadata": {},
   "source": [
    "The Pipeline constructor takes a list of name/estimator pairs defining a sequence of\n",
    " steps. All but the last estimator must be transformers (i.e., they must have a\n",
    " fit_transform() method). The names can be anything you like (as long as they are\n",
    " unique and don’t contain double underscores, __); they will come in handy later for\n",
    " hyperparameter tuning.\n",
    " When you call the pipeline’s fit() method, it calls fit_transform() sequentially on\n",
    " all transformers, passing the output of each call as the parameter to the next call until\n",
    " it reaches the final estimator, for which it calls the fit() method.\n",
    " The pipeline exposes the same methods as the final estimator. In this example, the last\n",
    " estimator is a StandardScaler, which is a transformer, so the pipeline has a trans\n",
    " form() method that applies all the transforms to the data in sequence (and of course\n",
    " also a fit_transform() method, which is the one we used)."
   ]
  },
  {
   "cell_type": "markdown",
   "id": "4a43c6c1-14d5-4445-b10c-dadd5da840ed",
   "metadata": {},
   "source": [
    " So far, we have handled the categorical columns and the numerical columns sepa\n",
    "rately. It would be more convenient to have a single transformer able to handle all col\n",
    "umns, applying the appropriate transformations to each column. In version 0.20,\n",
    " Scikit-Learn introduced the ColumnTransformer for this purpose, and the good news\n",
    " is that it works great with pandas DataFrames. Let’s use it to apply all the transforma\n",
    "tions to the housing data"
   ]
  },
  {
   "cell_type": "code",
   "execution_count": 10,
   "id": "cc2ac0cc-be73-4eaf-9b84-f1260e7471b9",
   "metadata": {},
   "outputs": [],
   "source": [
    "num_attr=list(df_num)\n",
    "cat_attr=['ocean_proximity']\n",
    "total_pipeline=ColumnTransformer([\n",
    "    ('num_pipeline',new_pipeline,num_attr),\n",
    "    ('categorical_pipeline',OneHotEncoder(),cat_attr)\n",
    "])\n",
    "df_total=total_pipeline.fit_transform(df)"
   ]
  },
  {
   "cell_type": "code",
   "execution_count": 11,
   "id": "3f583ef3-9fa9-46a0-aa67-9afc030070c0",
   "metadata": {},
   "outputs": [
    {
     "data": {
      "text/plain": [
       "array([[-1.32783522,  1.05254828,  0.98214266, ...,  0.        ,\n",
       "         1.        ,  0.        ],\n",
       "       [-1.32284391,  1.04318455, -0.60701891, ...,  0.        ,\n",
       "         1.        ,  0.        ],\n",
       "       [-1.33282653,  1.03850269,  1.85618152, ...,  0.        ,\n",
       "         1.        ,  0.        ],\n",
       "       ...,\n",
       "       [-0.8237132 ,  1.77823747, -0.92485123, ...,  0.        ,\n",
       "         0.        ,  0.        ],\n",
       "       [-0.87362627,  1.77823747, -0.84539315, ...,  0.        ,\n",
       "         0.        ,  0.        ],\n",
       "       [-0.83369581,  1.75014627, -1.00430931, ...,  0.        ,\n",
       "         0.        ,  0.        ]], shape=(20640, 14))"
      ]
     },
     "execution_count": 11,
     "metadata": {},
     "output_type": "execute_result"
    }
   ],
   "source": [
    "df_total"
   ]
  },
  {
   "cell_type": "markdown",
   "id": "cab3fc66-44db-4ec5-afc8-a4979e158317",
   "metadata": {},
   "source": [
    "First we import the ColumnTransformer class, next we get the list of numerical col\n",
    "umn names and the list of categorical column names, and then we construct a Colum\n",
    " nTransformer. The constructor requires a list of tuples, where each tuple contains a\n",
    " name,22 a transformer, and a list of names (or indices) of columns that the trans\n",
    "former should be applied to. In this example, we specify that the numerical columns\n",
    " should be transformed using the num_pipeline that we defined earlier, and the cate\n",
    "gorical columns should be transformed using a OneHotEncoder. Finally, we apply this\n",
    " ColumnTransformer to the housing data: it applies each transformer to the appropri\n",
    "ate columns and concatenates the outputs along the second axis (the transformers\n",
    " must return the same number of rows)."
   ]
  },
  {
   "cell_type": "markdown",
   "id": "ec6405c9-adef-4d41-bfab-91571c0657c9",
   "metadata": {},
   "source": [
    "Note that the OneHotEncoder returns a sparse matrix, while the num_pipeline returns\n",
    " a dense matrix. When there is such a mix of sparse and dense matrices, the Colum\n",
    " nTransformer estimates the density of the final matrix (i.e., the ratio of nonzero\n",
    " cells), and it returns a sparse matrix if the density is lower than a given threshold (by\n",
    " default, sparse_threshold=0.3). In this example, it returns a dense matrix. And\n",
    " that’s it! We have a preprocessing pipeline that takes the full housing data and applies\n",
    " the appropriate transformations to each column."
   ]
  },
  {
   "cell_type": "code",
   "execution_count": null,
   "id": "651a89d7-4f3a-4757-9a93-40f07e0f4ba5",
   "metadata": {},
   "outputs": [],
   "source": []
  }
 ],
 "metadata": {
  "kernelspec": {
   "display_name": "Python 3 (ipykernel)",
   "language": "python",
   "name": "python3"
  },
  "language_info": {
   "codemirror_mode": {
    "name": "ipython",
    "version": 3
   },
   "file_extension": ".py",
   "mimetype": "text/x-python",
   "name": "python",
   "nbconvert_exporter": "python",
   "pygments_lexer": "ipython3",
   "version": "3.12.5"
  }
 },
 "nbformat": 4,
 "nbformat_minor": 5
}
