{
 "cells": [
  {
   "cell_type": "markdown",
   "id": "f361cb39-7400-4a38-b631-39c915058048",
   "metadata": {},
   "source": [
    "# Curse Of Dimensionality \n",
    "#### In this part basically the number of features are reduced to increase model accuracy \n",
    "#### IT is divided in two parts\n",
    "#### 1. Feature Scaling :  To tkae only the imp feature by checking their covariance and correlation\n",
    "#### 2. Feature extraction : Decomposition of feature from higher dimension to lower dimension by very less loss of information to caputre maximum variance "
   ]
  },
  {
   "cell_type": "markdown",
   "id": "964861d9-a3fd-4567-bbbd-9fef139ea83d",
   "metadata": {},
   "source": [
    "# 1. Feature Scaling "
   ]
  },
  {
   "cell_type": "markdown",
   "id": "6e929bf2-84be-4dc9-82a7-a7a7891f34c0",
   "metadata": {},
   "source": [
    "#### In this case we can reduce the dimension by neglecting most of the feature but the loss of varinace on different axis is more "
   ]
  },
  {
   "cell_type": "code",
   "execution_count": 5,
   "id": "bc04169c-416d-44d9-a88b-4e9a2c6a1b0e",
   "metadata": {},
   "outputs": [],
   "source": [
    "### Creating a sample code of it \n",
    "import numpy as np\n",
    "import pandas as pd\n",
    "import seaborn as sns\n",
    "import matplotlib.pyplot as plt\n",
    "import warnings\n",
    "warnings.filterwarnings('ignore')"
   ]
  },
  {
   "cell_type": "code",
   "execution_count": 24,
   "id": "d1da888f-30a2-4ac9-bada-9add59e727b6",
   "metadata": {},
   "outputs": [],
   "source": [
    "df=pd.DataFrame({\n",
    "    'x1':np.random.random(size=20),\n",
    "    'x2':np.random.random(size=20),\n",
    "    'x3':np.random.random(size=20),\n",
    "    'x4':np.random.random(size=20),\n",
    "    'x5':np.random.random(size=20),\n",
    "    'y':np.random.random(size=20),\n",
    "})"
   ]
  },
  {
   "cell_type": "code",
   "execution_count": 25,
   "id": "59ca06c3-712d-4ed7-8d90-cf66cde48d42",
   "metadata": {},
   "outputs": [
    {
     "data": {
      "text/html": [
       "<div>\n",
       "<style scoped>\n",
       "    .dataframe tbody tr th:only-of-type {\n",
       "        vertical-align: middle;\n",
       "    }\n",
       "\n",
       "    .dataframe tbody tr th {\n",
       "        vertical-align: top;\n",
       "    }\n",
       "\n",
       "    .dataframe thead th {\n",
       "        text-align: right;\n",
       "    }\n",
       "</style>\n",
       "<table border=\"1\" class=\"dataframe\">\n",
       "  <thead>\n",
       "    <tr style=\"text-align: right;\">\n",
       "      <th></th>\n",
       "      <th>x1</th>\n",
       "      <th>x2</th>\n",
       "      <th>x3</th>\n",
       "      <th>x4</th>\n",
       "      <th>x5</th>\n",
       "      <th>y</th>\n",
       "    </tr>\n",
       "  </thead>\n",
       "  <tbody>\n",
       "    <tr>\n",
       "      <th>0</th>\n",
       "      <td>0.618782</td>\n",
       "      <td>0.215514</td>\n",
       "      <td>0.841981</td>\n",
       "      <td>0.190904</td>\n",
       "      <td>0.543102</td>\n",
       "      <td>0.458093</td>\n",
       "    </tr>\n",
       "    <tr>\n",
       "      <th>1</th>\n",
       "      <td>0.009792</td>\n",
       "      <td>0.835429</td>\n",
       "      <td>0.466318</td>\n",
       "      <td>0.334918</td>\n",
       "      <td>0.594801</td>\n",
       "      <td>0.626480</td>\n",
       "    </tr>\n",
       "    <tr>\n",
       "      <th>2</th>\n",
       "      <td>0.124357</td>\n",
       "      <td>0.799193</td>\n",
       "      <td>0.350295</td>\n",
       "      <td>0.294168</td>\n",
       "      <td>0.164549</td>\n",
       "      <td>0.204003</td>\n",
       "    </tr>\n",
       "    <tr>\n",
       "      <th>3</th>\n",
       "      <td>0.834302</td>\n",
       "      <td>0.012945</td>\n",
       "      <td>0.189330</td>\n",
       "      <td>0.501012</td>\n",
       "      <td>0.747756</td>\n",
       "      <td>0.387324</td>\n",
       "    </tr>\n",
       "    <tr>\n",
       "      <th>4</th>\n",
       "      <td>0.755483</td>\n",
       "      <td>0.676604</td>\n",
       "      <td>0.136802</td>\n",
       "      <td>0.846225</td>\n",
       "      <td>0.435918</td>\n",
       "      <td>0.257836</td>\n",
       "    </tr>\n",
       "  </tbody>\n",
       "</table>\n",
       "</div>"
      ],
      "text/plain": [
       "         x1        x2        x3        x4        x5         y\n",
       "0  0.618782  0.215514  0.841981  0.190904  0.543102  0.458093\n",
       "1  0.009792  0.835429  0.466318  0.334918  0.594801  0.626480\n",
       "2  0.124357  0.799193  0.350295  0.294168  0.164549  0.204003\n",
       "3  0.834302  0.012945  0.189330  0.501012  0.747756  0.387324\n",
       "4  0.755483  0.676604  0.136802  0.846225  0.435918  0.257836"
      ]
     },
     "execution_count": 25,
     "metadata": {},
     "output_type": "execute_result"
    }
   ],
   "source": [
    "df.head()"
   ]
  },
  {
   "cell_type": "code",
   "execution_count": 37,
   "id": "6800e504-fc9b-4458-942a-0756a53183f7",
   "metadata": {},
   "outputs": [],
   "source": [
    "def Calculate_covariance(x,y):\n",
    "    if(len(x)<2): \n",
    "        return 0\n",
    "    x_bar=np.mean(x)\n",
    "    y_bar=np.mean(y)\n",
    "    value=0\n",
    "    for i in range(len(x)):\n",
    "        value+=((x[i]-x_bar)*(y[i]-y_bar))\n",
    "    corr=value/len(x)-1\n",
    "    return corr\n",
    "\n",
    "def calculate_correlation(x,y):\n",
    "    if(len(x)<2):\n",
    "        return 0\n",
    "    x_std=np.std(x)\n",
    "    y_std=np.std(y)\n",
    "    value=0\n",
    "    for i in range(len(x)):\n",
    "        value+=((x[i]-x_bar)*(y[i]-y_bar))\n",
    "    col=value/(x_std*y_std)\n",
    "    return col    "
   ]
  },
  {
   "cell_type": "code",
   "execution_count": 44,
   "id": "af047188-4353-49e2-8e35-39c7b3c343b9",
   "metadata": {},
   "outputs": [
    {
     "data": {
      "image/png": "[encoded data removed]",
      "text/plain": [
       "<Figure size 1000x600 with 6 Axes>"
      ]
     },
     "metadata": {},
     "output_type": "display_data"
    }
   ],
   "source": [
    "fig, ax = plt.subplots(ncols=3, nrows=2, figsize=(10,6),sharey=True)\n",
    "ax[0,0].scatter(x=df.x1,y=df.y)\n",
    "ax[0,1].scatter(x=df.x2,y=df.y)\n",
    "ax[0,2].scatter(x=df.x3,y=df.y)\n",
    "ax[1,0].scatter(x=df.x4,y=df.y)\n",
    "ax[1,1].scatter(x=df.x5,y=df.y)\n",
    "ax[1,2].scatter(x=df.y,y=df.y)\n",
    "fig.set_label('yaxis')\n",
    "fig.show()"
   ]
  },
  {
   "cell_type": "code",
   "execution_count": 43,
   "id": "a4bddf4a-75a1-4474-b3dd-60eb1b3ba067",
   "metadata": {},
   "outputs": [
    {
     "data": {
      "text/plain": [
       "y     1.000000\n",
       "x5    0.281981\n",
       "x2    0.127774\n",
       "x4    0.056663\n",
       "x1   -0.109800\n",
       "x3   -0.379807\n",
       "Name: y, dtype: float64"
      ]
     },
     "execution_count": 43,
     "metadata": {},
     "output_type": "execute_result"
    }
   ],
   "source": [
    "df.corr(method='pearson')['y'].sort_values(ascending=False)"
   ]
  },
  {
   "cell_type": "markdown",
   "id": "ca6c08dd-cf89-4c86-9f68-c8b4be401169",
   "metadata": {},
   "source": [
    "#### So From this x3  is more negatively correlted so it can be used"
   ]
  },
  {
   "cell_type": "markdown",
   "id": "cd10bc07-5aa3-4e04-8872-a4c0da5c82f8",
   "metadata": {},
   "source": [
    "## Main Ideas Of Covariance \n",
    "#### So it is just a metric used to calculate the relation between the dependent and independent variable i.e x and y \n",
    "#### Here if the x is increasing and y is incresing or x is decreasing and y is decreasing then there is positive covariance \n",
    "#### Here if the x is increasing and y is decreasing or x is increasing and y is decreasing then there is negative covariance \n",
    "#### An when their is no change that x is increasing and some time y is and not also then their is zero covariance \n",
    "#### Conlusion : 1. If there is higher positive covariance then it is (+)ive and vice versa or zero "
   ]
  },
  {
   "cell_type": "markdown",
   "id": "6a68a832-c735-4f59-b267-b59a28ad6137",
   "metadata": {},
   "source": [
    "## Correlation :\n",
    "#### So here it is similar to covariance but change is that it is scaled between -1 to 1 "
   ]
  },
  {
   "cell_type": "markdown",
   "id": "a47b68fd-41f4-42ed-a901-14fda63131a0",
   "metadata": {},
   "source": [
    "## 2. Feature Extraction\n",
    "#### Without droping most of the feature in this techinque we basically decompose it in lower dimension by taking most of the essence of fearure \n",
    "#### eg :- if their are 10 fearure it is not possible to visualize but by doing feature extraction we can do it by converting to 2d (dimension)\n",
    "#### This Whole Stuff is Happened using 'PCA' (principal Component Analysis)\n",
    "#### Here eigen vector and eigen value decomposition is uwed to calculate thet vector (pc1 , pc2 ,....,pcn) and the captured variance which is eigen value and arranged in descending order \n",
    "#### Visualize this simulation on 3blue1brown channel :::: - Linear Transfromation"
   ]
  },
  {
   "cell_type": "markdown",
   "id": "53eb9f1c-8cf6-472c-a19e-792c81a72e6b",
   "metadata": {},
   "source": [
    "### So for this lets import built in dataset\n",
    "## NOTE : Data is SCALED befor doing linear transformation to center data "
   ]
  },
  {
   "cell_type": "code",
   "execution_count": 47,
   "id": "23038935-2277-4e12-aac7-e997b8c491bb",
   "metadata": {},
   "outputs": [
    {
     "name": "stdout",
     "output_type": "stream",
     "text": [
      "Data Struecture : dict_keys(['data', 'target', 'frame', 'target_names', 'DESCR', 'feature_names', 'filename', 'data_module'])\n",
      "Data Description : .. _breast_cancer_dataset:\n",
      "\n",
      "Breast cancer Wisconsin (diagnostic) dataset\n",
      "--------------------------------------------\n",
      "\n",
      "**Data Set Characteristics:**\n",
      "\n",
      ":Number of Instances: 569\n",
      "\n",
      ":Number of Attributes: 30 numeric, predictive attributes and the class\n",
      "\n",
      ":Attribute Information:\n",
      "    - radius (mean of distances from center to points on the perimeter)\n",
      "    - texture (standard deviation of gray-scale values)\n",
      "    - perimeter\n",
      "    - area\n",
      "    - smoothness (local variation in radius lengths)\n",
      "    - compactness (perimeter^2 / area - 1.0)\n",
      "    - concavity (severity of concave portions of the contour)\n",
      "    - concave points (number of concave portions of the contour)\n",
      "    - symmetry\n",
      "    - fractal dimension (\"coastline approximation\" - 1)\n",
      "\n",
      "    The mean, standard error, and \"worst\" or largest (mean of the three\n",
      "    worst/largest values) of these features were computed for each image,\n",
      "    resulting in 30 features.  For instance, field 0 is Mean Radius, field\n",
      "    10 is Radius SE, field 20 is Worst Radius.\n",
      "\n",
      "    - class:\n",
      "            - WDBC-Malignant\n",
      "            - WDBC-Benign\n",
      "\n",
      ":Summary Statistics:\n",
      "\n",
      "===================================== ====== ======\n",
      "                                        Min    Max\n",
      "===================================== ====== ======\n",
      "radius (mean):                        6.981  28.11\n",
      "texture (mean):                       9.71   39.28\n",
      "perimeter (mean):                     43.79  188.5\n",
      "area (mean):                          143.5  2501.0\n",
      "smoothness (mean):                    0.053  0.163\n",
      "compactness (mean):                   0.019  0.345\n",
      "concavity (mean):                     0.0    0.427\n",
      "concave points (mean):                0.0    0.201\n",
      "symmetry (mean):                      0.106  0.304\n",
      "fractal dimension (mean):             0.05   0.097\n",
      "radius (standard error):              0.112  2.873\n",
      "texture (standard error):             0.36   4.885\n",
      "perimeter (standard error):           0.757  21.98\n",
      "area (standard error):                6.802  542.2\n",
      "smoothness (standard error):          0.002  0.031\n",
      "compactness (standard error):         0.002  0.135\n",
      "concavity (standard error):           0.0    0.396\n",
      "concave points (standard error):      0.0    0.053\n",
      "symmetry (standard error):            0.008  0.079\n",
      "fractal dimension (standard error):   0.001  0.03\n",
      "radius (worst):                       7.93   36.04\n",
      "texture (worst):                      12.02  49.54\n",
      "perimeter (worst):                    50.41  251.2\n",
      "area (worst):                         185.2  4254.0\n",
      "smoothness (worst):                   0.071  0.223\n",
      "compactness (worst):                  0.027  1.058\n",
      "concavity (worst):                    0.0    1.252\n",
      "concave points (worst):               0.0    0.291\n",
      "symmetry (worst):                     0.156  0.664\n",
      "fractal dimension (worst):            0.055  0.208\n",
      "===================================== ====== ======\n",
      "\n",
      ":Missing Attribute Values: None\n",
      "\n",
      ":Class Distribution: 212 - Malignant, 357 - Benign\n",
      "\n",
      ":Creator:  Dr. William H. Wolberg, W. Nick Street, Olvi L. Mangasarian\n",
      "\n",
      ":Donor: Nick Street\n",
      "\n",
      ":Date: November, 1995\n",
      "\n",
      "This is a copy of UCI ML Breast Cancer Wisconsin (Diagnostic) datasets.\n",
      "https://goo.gl/U2Uwz2\n",
      "\n",
      "Features are computed from a digitized image of a fine needle\n",
      "aspirate (FNA) of a breast mass.  They describe\n",
      "characteristics of the cell nuclei present in the image.\n",
      "\n",
      "Separating plane described above was obtained using\n",
      "Multisurface Method-Tree (MSM-T) [K. P. Bennett, \"Decision Tree\n",
      "Construction Via Linear Programming.\" Proceedings of the 4th\n",
      "Midwest Artificial Intelligence and Cognitive Science Society,\n",
      "pp. 97-101, 1992], a classification method which uses linear\n",
      "programming to construct a decision tree.  Relevant features\n",
      "were selected using an exhaustive search in the space of 1-4\n",
      "features and 1-3 separating planes.\n",
      "\n",
      "The actual linear program used to obtain the separating plane\n",
      "in the 3-dimensional space is that described in:\n",
      "[K. P. Bennett and O. L. Mangasarian: \"Robust Linear\n",
      "Programming Discrimination of Two Linearly Inseparable Sets\",\n",
      "Optimization Methods and Software 1, 1992, 23-34].\n",
      "\n",
      "This database is also available through the UW CS ftp server:\n",
      "\n",
      "ftp ftp.cs.wisc.edu\n",
      "cd math-prog/cpo-dataset/machine-learn/WDBC/\n",
      "\n",
      ".. dropdown:: References\n",
      "\n",
      "  - W.N. Street, W.H. Wolberg and O.L. Mangasarian. Nuclear feature extraction\n",
      "    for breast tumor diagnosis. IS&T/SPIE 1993 International Symposium on\n",
      "    Electronic Imaging: Science and Technology, volume 1905, pages 861-870,\n",
      "    San Jose, CA, 1993.\n",
      "  - O.L. Mangasarian, W.N. Street and W.H. Wolberg. Breast cancer diagnosis and\n",
      "    prognosis via linear programming. Operations Research, 43(4), pages 570-577,\n",
      "    July-August 1995.\n",
      "  - W.H. Wolberg, W.N. Street, and O.L. Mangasarian. Machine learning techniques\n",
      "    to diagnose breast cancer from fine-needle aspirates. Cancer Letters 77 (1994)\n",
      "    163-171.\n",
      "\n"
     ]
    }
   ],
   "source": [
    "from sklearn.datasets import load_breast_cancer\n",
    "cancer=load_breast_cancer()\n",
    "print(f\"Data Struecture : {cancer.keys()}\")\n",
    "print(f\"Data Description : {cancer.DESCR}\")"
   ]
  },
  {
   "cell_type": "code",
   "execution_count": 49,
   "id": "e8163958-8b8b-4dc3-a765-3018b1d57f42",
   "metadata": {},
   "outputs": [
    {
     "data": {
      "text/html": [
       "<div>\n",
       "<style scoped>\n",
       "    .dataframe tbody tr th:only-of-type {\n",
       "        vertical-align: middle;\n",
       "    }\n",
       "\n",
       "    .dataframe tbody tr th {\n",
       "        vertical-align: top;\n",
       "    }\n",
       "\n",
       "    .dataframe thead th {\n",
       "        text-align: right;\n",
       "    }\n",
       "</style>\n",
       "<table border=\"1\" class=\"dataframe\">\n",
       "  <thead>\n",
       "    <tr style=\"text-align: right;\">\n",
       "      <th></th>\n",
       "      <th>mean radius</th>\n",
       "      <th>mean texture</th>\n",
       "      <th>mean perimeter</th>\n",
       "      <th>mean area</th>\n",
       "      <th>mean smoothness</th>\n",
       "      <th>mean compactness</th>\n",
       "      <th>mean concavity</th>\n",
       "      <th>mean concave points</th>\n",
       "      <th>mean symmetry</th>\n",
       "      <th>mean fractal dimension</th>\n",
       "      <th>...</th>\n",
       "      <th>worst radius</th>\n",
       "      <th>worst texture</th>\n",
       "      <th>worst perimeter</th>\n",
       "      <th>worst area</th>\n",
       "      <th>worst smoothness</th>\n",
       "      <th>worst compactness</th>\n",
       "      <th>worst concavity</th>\n",
       "      <th>worst concave points</th>\n",
       "      <th>worst symmetry</th>\n",
       "      <th>worst fractal dimension</th>\n",
       "    </tr>\n",
       "  </thead>\n",
       "  <tbody>\n",
       "    <tr>\n",
       "      <th>0</th>\n",
       "      <td>17.99</td>\n",
       "      <td>10.38</td>\n",
       "      <td>122.80</td>\n",
       "      <td>1001.0</td>\n",
       "      <td>0.11840</td>\n",
       "      <td>0.27760</td>\n",
       "      <td>0.3001</td>\n",
       "      <td>0.14710</td>\n",
       "      <td>0.2419</td>\n",
       "      <td>0.07871</td>\n",
       "      <td>...</td>\n",
       "      <td>25.38</td>\n",
       "      <td>17.33</td>\n",
       "      <td>184.60</td>\n",
       "      <td>2019.0</td>\n",
       "      <td>0.1622</td>\n",
       "      <td>0.6656</td>\n",
       "      <td>0.7119</td>\n",
       "      <td>0.2654</td>\n",
       "      <td>0.4601</td>\n",
       "      <td>0.11890</td>\n",
       "    </tr>\n",
       "    <tr>\n",
       "      <th>1</th>\n",
       "      <td>20.57</td>\n",
       "      <td>17.77</td>\n",
       "      <td>132.90</td>\n",
       "      <td>1326.0</td>\n",
       "      <td>0.08474</td>\n",
       "      <td>0.07864</td>\n",
       "      <td>0.0869</td>\n",
       "      <td>0.07017</td>\n",
       "      <td>0.1812</td>\n",
       "      <td>0.05667</td>\n",
       "      <td>...</td>\n",
       "      <td>24.99</td>\n",
       "      <td>23.41</td>\n",
       "      <td>158.80</td>\n",
       "      <td>1956.0</td>\n",
       "      <td>0.1238</td>\n",
       "      <td>0.1866</td>\n",
       "      <td>0.2416</td>\n",
       "      <td>0.1860</td>\n",
       "      <td>0.2750</td>\n",
       "      <td>0.08902</td>\n",
       "    </tr>\n",
       "    <tr>\n",
       "      <th>2</th>\n",
       "      <td>19.69</td>\n",
       "      <td>21.25</td>\n",
       "      <td>130.00</td>\n",
       "      <td>1203.0</td>\n",
       "      <td>0.10960</td>\n",
       "      <td>0.15990</td>\n",
       "      <td>0.1974</td>\n",
       "      <td>0.12790</td>\n",
       "      <td>0.2069</td>\n",
       "      <td>0.05999</td>\n",
       "      <td>...</td>\n",
       "      <td>23.57</td>\n",
       "      <td>25.53</td>\n",
       "      <td>152.50</td>\n",
       "      <td>1709.0</td>\n",
       "      <td>0.1444</td>\n",
       "      <td>0.4245</td>\n",
       "      <td>0.4504</td>\n",
       "      <td>0.2430</td>\n",
       "      <td>0.3613</td>\n",
       "      <td>0.08758</td>\n",
       "    </tr>\n",
       "    <tr>\n",
       "      <th>3</th>\n",
       "      <td>11.42</td>\n",
       "      <td>20.38</td>\n",
       "      <td>77.58</td>\n",
       "      <td>386.1</td>\n",
       "      <td>0.14250</td>\n",
       "      <td>0.28390</td>\n",
       "      <td>0.2414</td>\n",
       "      <td>0.10520</td>\n",
       "      <td>0.2597</td>\n",
       "      <td>0.09744</td>\n",
       "      <td>...</td>\n",
       "      <td>14.91</td>\n",
       "      <td>26.50</td>\n",
       "      <td>98.87</td>\n",
       "      <td>567.7</td>\n",
       "      <td>0.2098</td>\n",
       "      <td>0.8663</td>\n",
       "      <td>0.6869</td>\n",
       "      <td>0.2575</td>\n",
       "      <td>0.6638</td>\n",
       "      <td>0.17300</td>\n",
       "    </tr>\n",
       "    <tr>\n",
       "      <th>4</th>\n",
       "      <td>20.29</td>\n",
       "      <td>14.34</td>\n",
       "      <td>135.10</td>\n",
       "      <td>1297.0</td>\n",
       "      <td>0.10030</td>\n",
       "      <td>0.13280</td>\n",
       "      <td>0.1980</td>\n",
       "      <td>0.10430</td>\n",
       "      <td>0.1809</td>\n",
       "      <td>0.05883</td>\n",
       "      <td>...</td>\n",
       "      <td>22.54</td>\n",
       "      <td>16.67</td>\n",
       "      <td>152.20</td>\n",
       "      <td>1575.0</td>\n",
       "      <td>0.1374</td>\n",
       "      <td>0.2050</td>\n",
       "      <td>0.4000</td>\n",
       "      <td>0.1625</td>\n",
       "      <td>0.2364</td>\n",
       "      <td>0.07678</td>\n",
       "    </tr>\n",
       "  </tbody>\n",
       "</table>\n",
       "<p>5 rows × 30 columns</p>\n",
       "</div>"
      ],
      "text/plain": [
       "   mean radius  mean texture  mean perimeter  mean area  mean smoothness  \\\n",
       "0        17.99         10.38          122.80     1001.0          0.11840   \n",
       "1        20.57         17.77          132.90     1326.0          0.08474   \n",
       "2        19.69         21.25          130.00     1203.0          0.10960   \n",
       "3        11.42         20.38           77.58      386.1          0.14250   \n",
       "4        20.29         14.34          135.10     1297.0          0.10030   \n",
       "\n",
       "   mean compactness  mean concavity  mean concave points  mean symmetry  \\\n",
       "0           0.27760          0.3001              0.14710         0.2419   \n",
       "1           0.07864          0.0869              0.07017         0.1812   \n",
       "2           0.15990          0.1974              0.12790         0.2069   \n",
       "3           0.28390          0.2414              0.10520         0.2597   \n",
       "4           0.13280          0.1980              0.10430         0.1809   \n",
       "\n",
       "   mean fractal dimension  ...  worst radius  worst texture  worst perimeter  \\\n",
       "0                 0.07871  ...         25.38          17.33           184.60   \n",
       "1                 0.05667  ...         24.99          23.41           158.80   \n",
       "2                 0.05999  ...         23.57          25.53           152.50   \n",
       "3                 0.09744  ...         14.91          26.50            98.87   \n",
       "4                 0.05883  ...         22.54          16.67           152.20   \n",
       "\n",
       "   worst area  worst smoothness  worst compactness  worst concavity  \\\n",
       "0      2019.0            0.1622             0.6656           0.7119   \n",
       "1      1956.0            0.1238             0.1866           0.2416   \n",
       "2      1709.0            0.1444             0.4245           0.4504   \n",
       "3       567.7            0.2098             0.8663           0.6869   \n",
       "4      1575.0            0.1374             0.2050           0.4000   \n",
       "\n",
       "   worst concave points  worst symmetry  worst fractal dimension  \n",
       "0                0.2654          0.4601                  0.11890  \n",
       "1                0.1860          0.2750                  0.08902  \n",
       "2                0.2430          0.3613                  0.08758  \n",
       "3                0.2575          0.6638                  0.17300  \n",
       "4                0.1625          0.2364                  0.07678  \n",
       "\n",
       "[5 rows x 30 columns]"
      ]
     },
     "execution_count": 49,
     "metadata": {},
     "output_type": "execute_result"
    }
   ],
   "source": [
    "df=pd.DataFrame(cancer.data,columns=cancer.feature_names)\n",
    "df.head()"
   ]
  },
  {
   "cell_type": "markdown",
   "id": "a056a86b-a1ee-4514-8fb5-194117763d07",
   "metadata": {},
   "source": [
    "### So there are 30 feature and directly visulation is nut posible \n",
    "### So Lets decompose it in two dimension"
   ]
  },
  {
   "cell_type": "code",
   "execution_count": 50,
   "id": "c0a0831c-dea2-417d-94c7-6878274a1e04",
   "metadata": {},
   "outputs": [],
   "source": [
    "#### First Scaling it \n",
    "from sklearn.preprocessing import StandardScaler\n",
    "scaler=StandardScaler()\n",
    "df_scaled=scaler.fit_transform(df)"
   ]
  },
  {
   "cell_type": "code",
   "execution_count": 51,
   "id": "61897d4d-86a3-46f6-85c7-9f5493c75606",
   "metadata": {},
   "outputs": [
    {
     "data": {
      "text/plain": [
       "array([[ 1.09706398, -2.07333501,  1.26993369, ...,  2.29607613,\n",
       "         2.75062224,  1.93701461],\n",
       "       [ 1.82982061, -0.35363241,  1.68595471, ...,  1.0870843 ,\n",
       "        -0.24388967,  0.28118999],\n",
       "       [ 1.57988811,  0.45618695,  1.56650313, ...,  1.95500035,\n",
       "         1.152255  ,  0.20139121],\n",
       "       ...,\n",
       "       [ 0.70228425,  2.0455738 ,  0.67267578, ...,  0.41406869,\n",
       "        -1.10454895, -0.31840916],\n",
       "       [ 1.83834103,  2.33645719,  1.98252415, ...,  2.28998549,\n",
       "         1.91908301,  2.21963528],\n",
       "       [-1.80840125,  1.22179204, -1.81438851, ..., -1.74506282,\n",
       "        -0.04813821, -0.75120669]], shape=(569, 30))"
      ]
     },
     "execution_count": 51,
     "metadata": {},
     "output_type": "execute_result"
    }
   ],
   "source": [
    "df_scaled"
   ]
  },
  {
   "cell_type": "code",
   "execution_count": 52,
   "id": "f881833c-0e15-4703-8274-e97c0c7655da",
   "metadata": {},
   "outputs": [],
   "source": [
    "from sklearn.decomposition import PCA\n",
    "pca=PCA(n_components=2) # To get data in two dimension\n",
    "df_pca=pca.fit_transform(df_scaled)"
   ]
  },
  {
   "cell_type": "code",
   "execution_count": 53,
   "id": "c9b3a6bb-f4a7-46c0-93cd-59a1de30bb19",
   "metadata": {},
   "outputs": [
    {
     "data": {
      "text/plain": [
       "array([[ 9.19283683,  1.94858307],\n",
       "       [ 2.3878018 , -3.76817174],\n",
       "       [ 5.73389628, -1.0751738 ],\n",
       "       ...,\n",
       "       [ 1.25617928, -1.90229671],\n",
       "       [10.37479406,  1.67201011],\n",
       "       [-5.4752433 , -0.67063679]], shape=(569, 2))"
      ]
     },
     "execution_count": 53,
     "metadata": {},
     "output_type": "execute_result"
    }
   ],
   "source": [
    "df_pca"
   ]
  },
  {
   "cell_type": "code",
   "execution_count": 59,
   "id": "182628c0-e2c3-4519-84d7-831f29ec7850",
   "metadata": {},
   "outputs": [
    {
     "data": {
      "text/plain": [
       "np.float64(13.304990794374564)"
      ]
     },
     "execution_count": 59,
     "metadata": {},
     "output_type": "execute_result"
    }
   ],
   "source": [
    "pca.explained_variance_[0]"
   ]
  },
  {
   "cell_type": "code",
   "execution_count": 60,
   "id": "9ea192c4-8dee-4c1d-b4a8-89936444bdb7",
   "metadata": {},
   "outputs": [
    {
     "data": {
      "text/plain": [
       "Text(0.5, 1.0, 'PCA Plot')"
      ]
     },
     "execution_count": 60,
     "metadata": {},
     "output_type": "execute_result"
    },
    {
     "data": {
      "image/png": "[encoded data removed]",
      "text/plain": [
       "<Figure size 1000x600 with 1 Axes>"
      ]
     },
     "metadata": {},
     "output_type": "display_data"
    }
   ],
   "source": [
    "plt.figure(figsize=(10,6))\n",
    "plt.scatter(x=df_pca[:,0],y=df_pca[:,1],c=cancer.target,cmap='plasma')\n",
    "plt.xlabel(f\"PC1 {pca.explained_variance_[0]}\")\n",
    "plt.ylabel(f\"PC2 {pca.explained_variance_[1]}\")\n",
    "plt.title(\"PCA Plot\")"
   ]
  },
  {
   "cell_type": "markdown",
   "id": "0ef79830-d47e-4c58-af59-d3a21405c1cf",
   "metadata": {},
   "source": [
    "#### Most of the information is caputred so points are seperated "
   ]
  },
  {
   "cell_type": "code",
   "execution_count": null,
   "id": "e90413a8-057a-48e3-a2d6-19c1e3019b5d",
   "metadata": {},
   "outputs": [],
   "source": []
  }
 ],
 "metadata": {
  "kernelspec": {
   "display_name": "Python 3 (ipykernel)",
   "language": "python",
   "name": "python3"
  },
  "language_info": {
   "codemirror_mode": {
    "name": "ipython",
    "version": 3
   },
   "file_extension": ".py",
   "mimetype": "text/x-python",
   "name": "python",
   "nbconvert_exporter": "python",
   "pygments_lexer": "ipython3",
   "version": "3.12.5"
  }
 },
 "nbformat": 4,
 "nbformat_minor": 5
}
